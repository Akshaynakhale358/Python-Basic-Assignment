{
 "cells": [
  {
   "cell_type": "code",
   "execution_count": null,
   "id": "27234b0d",
   "metadata": {},
   "outputs": [],
   "source": [
    "1. What exactly is []?\n",
    "----> This is the empty list that does not contain any value."
   ]
  },
  {
   "cell_type": "code",
   "execution_count": null,
   "id": "6871f0dc",
   "metadata": {},
   "outputs": [],
   "source": [
    "2. In a list of values stored in a variable called spam, how would you assign the value 'hello' as the third value? (Assume [2, 4, 6, 8, 10] are in spam.)\n",
    "Let's pretend the spam includes the list ['a', 'b', 'c', 'd'] for the next three queries.\n",
    "---->"
   ]
  },
  {
   "cell_type": "code",
   "execution_count": 1,
   "id": "ba2a9897",
   "metadata": {},
   "outputs": [
    {
     "name": "stdout",
     "output_type": "stream",
     "text": [
      "[2, 4, 'hello', 8, 10]\n"
     ]
    }
   ],
   "source": [
    "spam=[2, 4, 6, 8, 10]\n",
    "spam[2]='hello'\n",
    "print(spam)"
   ]
  },
  {
   "cell_type": "code",
   "execution_count": null,
   "id": "1f8d08a8",
   "metadata": {},
   "outputs": [],
   "source": [
    "3. What is the value of spam[int(int('3' * 2) / 11)]?"
   ]
  },
  {
   "cell_type": "code",
   "execution_count": 2,
   "id": "66e3cd50",
   "metadata": {},
   "outputs": [
    {
     "name": "stdout",
     "output_type": "stream",
     "text": [
      "8\n"
     ]
    }
   ],
   "source": [
    "a=spam[int(int('3' * 2) / 11)]\n",
    "print(a)"
   ]
  },
  {
   "cell_type": "code",
   "execution_count": null,
   "id": "33c2374b",
   "metadata": {},
   "outputs": [],
   "source": [
    "4. What is the value of spam[-1]?\n",
    "----> It access the last element of the list"
   ]
  },
  {
   "cell_type": "code",
   "execution_count": 4,
   "id": "cf043f96",
   "metadata": {},
   "outputs": [
    {
     "data": {
      "text/plain": [
       "10"
      ]
     },
     "execution_count": 4,
     "metadata": {},
     "output_type": "execute_result"
    }
   ],
   "source": [
    "spam=[2, 4, 6, 8, 10]\n",
    "spam[-1]"
   ]
  },
  {
   "cell_type": "code",
   "execution_count": null,
   "id": "1f6660e1",
   "metadata": {},
   "outputs": [],
   "source": [
    "5. What is the value of spam[:2]?\n",
    "Let's pretend bacon has the list [3.14, 'cat,' 11, 'cat,' True] for the next three questions.\n"
   ]
  },
  {
   "cell_type": "code",
   "execution_count": 5,
   "id": "b5cf8d74",
   "metadata": {},
   "outputs": [
    {
     "data": {
      "text/plain": [
       "['a', 'b']"
      ]
     },
     "execution_count": 5,
     "metadata": {},
     "output_type": "execute_result"
    }
   ],
   "source": [
    "spam =['a', 'b', 'c', 'd']\n",
    "spam[:2]"
   ]
  },
  {
   "cell_type": "code",
   "execution_count": null,
   "id": "4bde34a6",
   "metadata": {},
   "outputs": [],
   "source": [
    "6. What is the value of bacon.index('cat')?\n"
   ]
  },
  {
   "cell_type": "code",
   "execution_count": 10,
   "id": "511c2c98",
   "metadata": {},
   "outputs": [
    {
     "data": {
      "text/plain": [
       "1"
      ]
     },
     "execution_count": 10,
     "metadata": {},
     "output_type": "execute_result"
    }
   ],
   "source": [
    "bacon=[3.14, 'cat', 11, 'cat', True]\n",
    "bacon.index('cat')"
   ]
  },
  {
   "cell_type": "code",
   "execution_count": null,
   "id": "d5279198",
   "metadata": {},
   "outputs": [],
   "source": [
    "7. How does bacon.append(99) change the look of the list value in bacon?\n",
    "---->\n",
    "bacon.append(99)\n",
    "print(bacon)\n",
    "[3.14, 'cat', 11, 'cat', True, 99]"
   ]
  },
  {
   "cell_type": "code",
   "execution_count": 19,
   "id": "0062b7bc",
   "metadata": {},
   "outputs": [],
   "source": [
    "8. How does bacon.remove('cat') change the look of the list in bacon?\n",
    "----> It remove the First element that provided for remove in list"
   ]
  },
  {
   "cell_type": "code",
   "execution_count": 21,
   "id": "f10623b6",
   "metadata": {},
   "outputs": [
    {
     "name": "stdout",
     "output_type": "stream",
     "text": [
      "[3.14, 11, 'cat', True]\n"
     ]
    }
   ],
   "source": [
    "bacon=[3.14, 'cat', 11, 'cat', True]\n",
    "bacon.remove('cat')\n",
    "print(bacon)"
   ]
  },
  {
   "cell_type": "code",
   "execution_count": null,
   "id": "a7fb94a8",
   "metadata": {},
   "outputs": [],
   "source": [
    "9. What are the list concatenation and list replication operators?\n",
    "---->\n",
    "concatenation = The operation carried out by '+' operator , in this part the data type is same using concatenation.\n",
    "replication = The operation carried out by '*' operator , it  make a multiple copy  of the object."
   ]
  },
  {
   "cell_type": "code",
   "execution_count": 23,
   "id": "d0b3785a",
   "metadata": {},
   "outputs": [
    {
     "name": "stdout",
     "output_type": "stream",
     "text": [
      "I am akshay\n"
     ]
    }
   ],
   "source": [
    "#concatenation\n",
    "a=\"I \"\n",
    "b=\"am \"\n",
    "c=\"akshay \"\n",
    "d=a+b+c\n",
    "print(d)"
   ]
  },
  {
   "cell_type": "code",
   "execution_count": 30,
   "id": "2f9a7b1d",
   "metadata": {},
   "outputs": [
    {
     "name": "stdout",
     "output_type": "stream",
     "text": [
      "akshay akshay akshay \n"
     ]
    }
   ],
   "source": [
    "#replication\n",
    "a='akshay '\n",
    "b=3\n",
    "print(a*b)"
   ]
  },
  {
   "cell_type": "code",
   "execution_count": null,
   "id": "0fa4d17f",
   "metadata": {},
   "outputs": [],
   "source": [
    "10. What is difference between the list methods append() and insert()?\n",
    "----> \n",
    "append() = append is use when the adding some element in the list at the end.\n",
    "insert() = insert is use when add element add specific position in the list."
   ]
  },
  {
   "cell_type": "code",
   "execution_count": null,
   "id": "6123ffab",
   "metadata": {},
   "outputs": [],
   "source": [
    "11. What are the two methods for removing items from a list?\n",
    "----> \n",
    "remove() =remove(element_name) in this method the element remove in the list by giving the element name of the list. \n",
    "pop() = pop(index) in this method the element remove in the list by giving the element index of the list. "
   ]
  },
  {
   "cell_type": "code",
   "execution_count": null,
   "id": "d238d062",
   "metadata": {},
   "outputs": [],
   "source": [
    "12. Describe how list values and string values are identical.\n",
    "----> both list and string value are slicible , both have index, concatenation and replication operation is cariied out in this list and string value"
   ]
  },
  {
   "cell_type": "code",
   "execution_count": null,
   "id": "6891f32f",
   "metadata": {},
   "outputs": [],
   "source": [
    "13. What's the difference between tuples and lists?\n",
    "----> \n",
    "List = Lists are mutable, in list values added, removed, or changed. list repesent as []\n",
    "Tuples = Tuples are immutable, in tuples cannot be changed. tuples represent as ()"
   ]
  },
  {
   "cell_type": "code",
   "execution_count": null,
   "id": "7a0ac377",
   "metadata": {},
   "outputs": [],
   "source": [
    "14. How do you type a tuple value that only contains the integer 42?\n"
   ]
  },
  {
   "cell_type": "code",
   "execution_count": null,
   "id": "f6253c23",
   "metadata": {},
   "outputs": [],
   "source": [
    "15. How do you get a list value's tuple form? How do you get a tuple value's list form?\n",
    "----> \n",
    "list value's tuple form = tuple() it allow to convert list value into tuple \n",
    "tuple value's list form = list() it allow to convert tuple into list"
   ]
  },
  {
   "cell_type": "code",
   "execution_count": null,
   "id": "0b089c7d",
   "metadata": {},
   "outputs": [],
   "source": [
    "16. Variables that \"contain\" list values are not necessarily lists themselves. Instead, what do they contain?\n",
    "----> The list contain the value of variable"
   ]
  },
  {
   "cell_type": "code",
   "execution_count": null,
   "id": "b45ab7c1",
   "metadata": {},
   "outputs": [],
   "source": [
    "17. How do you distinguish between copy.copy() and copy.deepcopy()?\n",
    "----> \n",
    "copy.copy() = In single list using .copy() operation it creat a seperate memory location and we will make changes as our requirement.\n",
    "            but in nested list when using nested list if trying to change the value in nested list it should refected in the assigned nested list because it acts as an object with tha value of list\n",
    "\n",
    "copy.deepcopy() =  in single list it creat a seperate memory location but when a changes using this copy.deepcopy() when changes a one list but it not changes in deepcopy list.\n",
    "                  in nested list also creat a seperate copy of list, when make changes in list but it not reflected in the second list"
   ]
  }
 ],
 "metadata": {
  "kernelspec": {
   "display_name": "Python 3",
   "language": "python",
   "name": "python3"
  },
  "language_info": {
   "codemirror_mode": {
    "name": "ipython",
    "version": 3
   },
   "file_extension": ".py",
   "mimetype": "text/x-python",
   "name": "python",
   "nbconvert_exporter": "python",
   "pygments_lexer": "ipython3",
   "version": "3.8.8"
  }
 },
 "nbformat": 4,
 "nbformat_minor": 5
}
