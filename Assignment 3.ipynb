{
 "cells": [
  {
   "cell_type": "code",
   "execution_count": null,
   "id": "1fd9b226",
   "metadata": {},
   "outputs": [],
   "source": [
    "1. Why are functions advantageous to have in your programs?\n",
    "----> A need of functions is to group code that gets executed multiple times. Without a function defined.\n",
    "    Dont you have to print multiple times of code.\n",
    "    once you have to define the function it get shows the result multiple times\n",
    "    It makes programm easier, shorter, and understandable."
   ]
  },
  {
   "cell_type": "code",
   "execution_count": null,
   "id": "af8fcd7b",
   "metadata": {},
   "outputs": [],
   "source": [
    "2. When does the code in a function run: when it's specified or when it's called?\n",
    "----> when the function is call because the A function call can be used in an expression because it evaluates and execute it.\n"
   ]
  },
  {
   "cell_type": "code",
   "execution_count": null,
   "id": "428f71ac",
   "metadata": {},
   "outputs": [],
   "source": [
    "3. A function call can be used in an expression because it evaluates to its return value.\n",
    "----> Function is define using def function_name(): "
   ]
  },
  {
   "cell_type": "code",
   "execution_count": null,
   "id": "9a7f2bce",
   "metadata": {},
   "outputs": [],
   "source": [
    "4. What is the difference between a function and a function call?\n",
    "----> Function = statements that performs a specific task.\n",
    "     Function call = It allow to operate some data and then passes the result when we call a function."
   ]
  },
  {
   "cell_type": "code",
   "execution_count": null,
   "id": "0afdeed6",
   "metadata": {},
   "outputs": [],
   "source": [
    "5. How many global scopes are there in a Python program? How many local scopes?\n",
    "----> Global Scope = One global scope , in this the variable is created outside of the function this variable belongs to the whole program'\n",
    "      Local Scope = One or More local scope, in this variable is created inside the function or main body of the function.\n",
    "    "
   ]
  },
  {
   "cell_type": "code",
   "execution_count": null,
   "id": "e4ceacab",
   "metadata": {},
   "outputs": [],
   "source": [
    "6. What happens to variables in a local scope when the function call returns?\n",
    "----> It call the function and execute the program , and after the execution all the return value terminated."
   ]
  },
  {
   "cell_type": "code",
   "execution_count": 3,
   "id": "e34dae2f",
   "metadata": {},
   "outputs": [],
   "source": [
    "7. What is the concept of a return value? Is it possible to have a return value in an expression?\n",
    "----> The return something from the function, it allow to operate some data and then passes the result when we call a function. the return only define inside the function.  "
   ]
  },
  {
   "cell_type": "code",
   "execution_count": null,
   "id": "98d899c7",
   "metadata": {},
   "outputs": [],
   "source": [
    "8. If a function does not have a return statement, what is the return value of a call to that function?\n",
    "----> the return value of a call to that function None"
   ]
  },
  {
   "cell_type": "code",
   "execution_count": null,
   "id": "9ad49a4f",
   "metadata": {},
   "outputs": [],
   "source": [
    "9. How do you make a function variable refer to the global variable?\n",
    "---->A global variable in a function to refer to the global variable."
   ]
  },
  {
   "cell_type": "code",
   "execution_count": null,
   "id": "94e8c296",
   "metadata": {},
   "outputs": [],
   "source": [
    "10. What is the data type of None?\n",
    "----> The data type of None is NoneType"
   ]
  },
  {
   "cell_type": "code",
   "execution_count": null,
   "id": "8c1b5618",
   "metadata": {},
   "outputs": [],
   "source": [
    "11. What does the sentence import areallyourpetsnamederic do?\n",
    "----> Using import function and module is areallyourpetsnamederic"
   ]
  },
  {
   "cell_type": "code",
   "execution_count": null,
   "id": "3190f6df",
   "metadata": {},
   "outputs": [],
   "source": [
    "12. If you had a bacon() feature in a spam module, what would you call it after importing spam?\n",
    "----> call as a function spam.becon()"
   ]
  },
  {
   "cell_type": "code",
   "execution_count": null,
   "id": "2049e740",
   "metadata": {},
   "outputs": [],
   "source": [
    "13. What can you do to save a programme from crashing if it encounters an error?\n",
    "---->we use try clause error handling this programme"
   ]
  },
  {
   "cell_type": "code",
   "execution_count": null,
   "id": "c75738fc",
   "metadata": {},
   "outputs": [],
   "source": [
    "14. What is the purpose of the try clause? What is the purpose of the except clause?\n",
    "----> try = The try block is used to check some code for errors i.e the code inside the try block will execute when there is no error in the program.\n",
    "      except = The except block will execute whenever the program give some error in the preceding try block."
   ]
  },
  {
   "cell_type": "code",
   "execution_count": null,
   "id": "e2435222",
   "metadata": {},
   "outputs": [],
   "source": []
  }
 ],
 "metadata": {
  "kernelspec": {
   "display_name": "Python 3",
   "language": "python",
   "name": "python3"
  },
  "language_info": {
   "codemirror_mode": {
    "name": "ipython",
    "version": 3
   },
   "file_extension": ".py",
   "mimetype": "text/x-python",
   "name": "python",
   "nbconvert_exporter": "python",
   "pygments_lexer": "ipython3",
   "version": "3.8.8"
  }
 },
 "nbformat": 4,
 "nbformat_minor": 5
}
