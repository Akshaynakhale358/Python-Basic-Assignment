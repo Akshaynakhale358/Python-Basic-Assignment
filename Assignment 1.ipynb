{
 "cells": [
  {
   "cell_type": "markdown",
   "id": "1bbb8b49",
   "metadata": {},
   "source": [
    "1. In the below elements which of them are values or an expression? eg:- values can be integer or string and expressions will be mathematical operators.\n",
    "* \n",
    "'hello'\n",
    "-87.8\n",
    "- \n",
    "/ \n",
    "+\t\n",
    "6\n",
    "\n",
    "----> Values= 'hello', -87.8, 6\n",
    "      Expression = *, -, /, +"
   ]
  },
  {
   "cell_type": "markdown",
   "id": "d4f71c0f",
   "metadata": {},
   "source": [
    "2. What is the difference between string and variable?\n",
    "----> String = String is a sequence of characters\n",
    "               Strings in python can be created using single quotes('') or double quotes(\"\") or triple quotes(''' ''').\n",
    "      Variable = It is the memory of location. \n",
    "                 Variable is used for stored some data.\n",
    "                 When creating a veriable it cany start with numbers.\n",
    "                "
   ]
  },
  {
   "cell_type": "markdown",
   "id": "5bef7643",
   "metadata": {},
   "source": [
    "3. Describe three different data types.\n",
    "----> Integer =  The int datatype  is in the form of  integer number without any decimal point or whole number. in python it is possible to store very large integer number as there is no limit for the size of an int datatype.\n",
    "      ex. 80, -56\n",
    "\n",
    "     Float = The float data type is in the form of floating point numbers. the floating point number is a number that contains a decimal point.\n",
    "      ex. 86.35, -35.26\n",
    "    \n",
    "     String = In String data type the data is in the form of single quotes('') or double quotes(\"\") or triple quotes(''' ''').\n",
    "     ex. '51', \"Akshay\"  "
   ]
  },
  {
   "cell_type": "markdown",
   "id": "3e1d12ce",
   "metadata": {},
   "source": [
    "4. What is an expression made up of? What do all expressions do?\n",
    "---->  Expressions are representations of value. They are different from statement in the fact that statements do something while expressions are representations of value. for example any string is also an expressions since it represents the value of the string as well.\n",
    "       expressions is made up of identifiers, literals, and operators.\n",
    "   1.Identifiers:- Any name that is used to define a class, function, variable module, or object is an identifier.\n",
    "   2.Literals:- These are language independent terms in python and should exist independently in any programming language. In python, there are the string literals, byte literals, integer literals, floating point literals, and imaginary literals.\n",
    "   3.Operators:- An operator is a symbol that performs an operation."
   ]
  },
  {
   "cell_type": "markdown",
   "id": "0956b986",
   "metadata": {},
   "source": [
    "5. This assignment statements, like spam = 10. What is the difference between an expression and a statement?\n",
    "----> \n",
    "    Assignment statements =\n",
    "    Assignment statements is contain '=' (Assignment Operator) which seperate th expression. the left part of the statement is assigned variable. which contain some expression\n",
    "    Right part of expression contain expression which get the result \n",
    "    \n",
    "    Expression =\n",
    "    A combination of variables, operators, and values that represents a single result value\n",
    "    Expressions always returns a value.\n",
    "    Functions are also expressions. Even a non returning function will still return value, so it is an expression.\n",
    "    Can print the result value.\n",
    "    Examples Of Python Expressions: “Hello” + “World”, 4 + 5 etc.\n",
    "        \n",
    "    Statement =\n",
    "    A statement never returns a value.\n",
    "    Cannot print any result.\n",
    "    Examples Of Python Statements: Assignment statements, conditional branching, loops, classes, import, def, try, except, pass, del etc\n",
    "    \n",
    "    Spam = 10\n",
    "    Spam is type of expression and 10 is an ststement which contain in expression."
   ]
  },
  {
   "cell_type": "markdown",
   "id": "8452ee98",
   "metadata": {},
   "source": [
    "6. After running the following code, what does the variable bacon contain?\n",
    "bacon = 22\n",
    "bacon + 1\n",
    "----> The variable bacon contain = 22 value\n",
    "      The result is 23 "
   ]
  },
  {
   "cell_type": "markdown",
   "id": "93da1ac9",
   "metadata": {},
   "source": [
    "7. What should the values of the following two terms be?\n",
    "'spam' + 'spamspam'\n",
    "'spam' * 3\n",
    "----> 'spam' + 'spamspam'= 'spamspamspam'\n",
    "\n",
    "        'spam' * 3 = 'spamspamspam'"
   ]
  },
  {
   "cell_type": "code",
   "execution_count": 7,
   "id": "6fd85593",
   "metadata": {},
   "outputs": [
    {
     "data": {
      "text/plain": [
       "'spamspamspam'"
      ]
     },
     "execution_count": 7,
     "metadata": {},
     "output_type": "execute_result"
    }
   ],
   "source": [
    "'spam' + 'spamspam'"
   ]
  },
  {
   "cell_type": "code",
   "execution_count": 8,
   "id": "6df2e0de",
   "metadata": {},
   "outputs": [
    {
     "data": {
      "text/plain": [
       "'spamspamspam'"
      ]
     },
     "execution_count": 8,
     "metadata": {},
     "output_type": "execute_result"
    }
   ],
   "source": [
    "'spam' * 3"
   ]
  },
  {
   "cell_type": "markdown",
   "id": "91e8c079",
   "metadata": {},
   "source": [
    "8. Why is eggs a valid variable name while 100 is invalid?\n",
    "----> Because the rules of the veriable \n",
    "    1. The variable is only in one word'\n",
    "    2. The variable contain Alphabet, Numbers, underscore (_).\n",
    "    3. The variable cant start with the numbers.\n",
    "    \n",
    "eggs = Follow all the variable rules.\n",
    "100  = cant follow the variable rules."
   ]
  },
  {
   "cell_type": "markdown",
   "id": "54ffe7e6",
   "metadata": {},
   "source": [
    "9. What three functions can be used to get the integer, floating-point number, or string version of a value?\n",
    "----> The int() , float() , and str( )\n",
    "     Pass the value in them. and get the integer, floating-point number, or string version of a value."
   ]
  },
  {
   "cell_type": "markdown",
   "id": "ec4760d1",
   "metadata": {},
   "source": [
    "10. Why does this expression cause an error? How can you fix it?\n",
    "'I have eaten ' + 99 + ' burritos.'\n",
    "----> Because String data type and integer data type cant be get the result it give error.\n",
    "    'I have eaten ', ' burritos.'= String data type\n",
    "    99 = is the integer data type\n",
    "    \n",
    "    Right way to write,\n",
    "    'I have eaten ' + '99' + ' burritos.'"
   ]
  },
  {
   "cell_type": "code",
   "execution_count": 9,
   "id": "22d93e19",
   "metadata": {},
   "outputs": [
    {
     "data": {
      "text/plain": [
       "'I have eaten 99  burritos.'"
      ]
     },
     "execution_count": 9,
     "metadata": {},
     "output_type": "execute_result"
    }
   ],
   "source": [
    "'I have eaten ' + '99 '+ ' burritos.'"
   ]
  },
  {
   "cell_type": "code",
   "execution_count": null,
   "id": "5e0faadd",
   "metadata": {},
   "outputs": [],
   "source": []
  }
 ],
 "metadata": {
  "kernelspec": {
   "display_name": "Python 3",
   "language": "python",
   "name": "python3"
  },
  "language_info": {
   "codemirror_mode": {
    "name": "ipython",
    "version": 3
   },
   "file_extension": ".py",
   "mimetype": "text/x-python",
   "name": "python",
   "nbconvert_exporter": "python",
   "pygments_lexer": "ipython3",
   "version": "3.8.8"
  }
 },
 "nbformat": 4,
 "nbformat_minor": 5
}
